{
 "cells": [
  {
   "cell_type": "code",
   "execution_count": 8,
   "metadata": {},
   "outputs": [],
   "source": [
    "# First cell - imports\n",
    "from selenium import webdriver\n",
    "from selenium.webdriver.common.keys import Keys\n",
    "from selenium.webdriver.support import expected_conditions as EC\n",
    "from selenium.webdriver.common.by import By\n",
    "from selenium.webdriver.support.wait import WebDriverWait\n",
    "from selenium.webdriver.chrome.options import Options\n",
    "from selenium.common.exceptions import NoSuchElementException, TimeoutException\n",
    "import config\n",
    "import time\n",
    "import json\n",
    "import csv\n",
    "import os\n",
    "from bs4 import BeautifulSoup\n",
    "\n",
    "# Run this cell first"
   ]
  },
  {
   "cell_type": "code",
   "execution_count": 9,
   "metadata": {
    "jupyter": {
     "source_hidden": true
    }
   },
   "outputs": [],
   "source": [
    "# Second cell - initialize driver\n",
    "driver = webdriver.Chrome()"
   ]
  },
  {
   "cell_type": "code",
   "execution_count": 10,
   "metadata": {},
   "outputs": [],
   "source": [
    "# Third cell - login\n",
    "def login():\n",
    "    driver.get(\"https://www.instagram.com\")\n",
    "    \n",
    "    username = WebDriverWait(driver, 10).until(EC.element_to_be_clickable((By.CSS_SELECTOR, \"input[name='username']\")))\n",
    "    password = WebDriverWait(driver, 10).until(EC.element_to_be_clickable((By.CSS_SELECTOR, \"input[name='password']\")))\n",
    "    \n",
    "    username.clear()\n",
    "    username.send_keys(config.username2)\n",
    "    password.clear()\n",
    "    password.send_keys(config.password2)\n",
    "    \n",
    "    button = WebDriverWait(driver, 2).until(EC.element_to_be_clickable((By.CSS_SELECTOR, \"button[type='submit']\")))\n",
    "    button.click()\n",
    "\n",
    "# Run login when ready\n",
    "login()"
   ]
  },
  {
   "cell_type": "code",
   "execution_count": 11,
   "metadata": {},
   "outputs": [],
   "source": [
    "#Go to profile\n",
    "profile_button = WebDriverWait(driver, 10).until(EC.element_to_be_clickable((By.CSS_SELECTOR, f\"a[href*='{config.username2}']\")))\n",
    "profile_button.click()\n",
    "\n",
    "#Go to following\n",
    "profile_button = WebDriverWait(driver, 10).until(EC.element_to_be_clickable((By.CSS_SELECTOR, f\"a[href*='/{config.username2}/following']\")))\n",
    "profile_button.click()\n"
   ]
  },
  {
   "cell_type": "code",
   "execution_count": 12,
   "metadata": {},
   "outputs": [],
   "source": [
    "#Scroll down to load all following\n",
    "modal = WebDriverWait(driver, 10).until(\n",
    "    EC.presence_of_element_located((By.CSS_SELECTOR, \"div[class='xyi19xy x1ccrb07 xtf3nb5 x1pc53ja x1lliihq x1iyjqo2 xs83m0k xz65tgg x1rife3k x1n2onr6']\"))\n",
    ")\n",
    "\n",
    "last_height = driver.execute_script(\"return arguments[0].scrollHeight\", modal)\n",
    "while True:\n",
    "    # Scroll to bottom\n",
    "    driver.execute_script(\"arguments[0].scrollTop = arguments[0].scrollHeight\", modal)\n",
    "    time.sleep(2)\n",
    "    \n",
    "    # Calculate new scroll height and compare with last scroll height\n",
    "    new_height = driver.execute_script(\"return arguments[0].scrollHeight\", modal)\n",
    "    if new_height == last_height:\n",
    "        break\n",
    "    last_height = new_height"
   ]
  },
  {
   "cell_type": "code",
   "execution_count": 13,
   "metadata": {},
   "outputs": [
    {
     "name": "stdout",
     "output_type": "stream",
     "text": [
      "chang.10.25\n",
      "fwenclub\n",
      "gigi_swy\n",
      "horosocial_club\n",
      "ivyyy.ng\n",
      "natalieheha\n",
      "t_toffler.l\n",
      "virgo.together\n",
      "weijin_huang\n",
      "yiminghay\n"
     ]
    }
   ],
   "source": [
    "soup = BeautifulSoup(driver.page_source, \"html.parser\")\n",
    "\n",
    "#First find the dialog div\n",
    "dialog = soup.find('div', {'role': 'dialog'})\n",
    "\n",
    "#Then find all the links within the dialog\n",
    "accounts = dialog.find_all('a', \n",
    "    class_ = \"x1i10hfl xjbqb8w x1ejq31n xd10rxx x1sy0etr x17r0tee x972fbf xcfux6l x1qhh985 xm0m39n x9f619 x1ypdohk xt0psk2 xe8uvvx xdj266r x11i5rnm xat24cr x1mh8g0r xexx8yu x4uap5 x18d9i69 xkhd6sd x16tdsg8 x1hl2dhg xggy1nq x1a2a7pz notranslate _a6hd\"\n",
    "    )\n",
    "\n",
    "unique_accounts = {account['href'].lstrip('/').split('/?')[0] for account in accounts}  # Convert to set to remove duplicates\n",
    "\n",
    "\n",
    "# If you need it as a list\n",
    "unique_accounts_list = list(unique_accounts)\n",
    "\n",
    "#sort the accounts by name\n",
    "unique_accounts = sorted(unique_accounts, key=str.lower)\n",
    "\n",
    "# Print unique hrefs (optional)\n",
    "for account in unique_accounts:\n",
    "    print(account)\n",
    "\n"
   ]
  },
  {
   "cell_type": "code",
   "execution_count": 14,
   "metadata": {},
   "outputs": [],
   "source": [
    "# Save to CSV file\n",
    "base_dir = 'scraped_data'\n",
    "csv_file = os.path.join(base_dir, 'instagram_accounts.csv')\n",
    "headers = ['account', 'last_scrapped', 'num_images', 'num_videos']\n",
    "\n",
    "with open(csv_file, 'w', newline='') as f:\n",
    "    writer = csv.DictWriter(f, fieldnames=headers)\n",
    "    writer.writeheader()\n",
    "    for username in unique_accounts:\n",
    "        writer.writerow({\n",
    "            'account': username,\n",
    "            'last_scrapped': 0,\n",
    "            'num_images': 0,\n",
    "            'num_videos': 0\n",
    "        })"
   ]
  }
 ],
 "metadata": {
  "kernelspec": {
   "display_name": "Python 3",
   "language": "python",
   "name": "python3"
  },
  "language_info": {
   "codemirror_mode": {
    "name": "ipython",
    "version": 3
   },
   "file_extension": ".py",
   "mimetype": "text/x-python",
   "name": "python",
   "nbconvert_exporter": "python",
   "pygments_lexer": "ipython3",
   "version": "3.10.5"
  }
 },
 "nbformat": 4,
 "nbformat_minor": 4
}
